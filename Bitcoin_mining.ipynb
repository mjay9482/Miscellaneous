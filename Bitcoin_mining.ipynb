{
  "nbformat": 4,
  "nbformat_minor": 0,
  "metadata": {
    "colab": {
      "provenance": []
    },
    "kernelspec": {
      "name": "python3",
      "display_name": "Python 3"
    },
    "language_info": {
      "name": "python"
    }
  },
  "cells": [
    {
      "cell_type": "markdown",
      "source": [
        "Bitcoin is a decentralized digital currency , without a central bank or a single administrator.Transactions are verified by network node through Cryptography and are recorded in a public distributed ledger called blockchain. It was invented by Satoshi Nakamoto.Bitcoin's supply is capped to a limit of 21M , which makes it a deflationary currency. Bitcoin has gain much attention  and  adoption as a store of value, a medium of exchange, and as an investment asset , its price is known for its volatility"
      ],
      "metadata": {
        "id": "OuD7CviqLce6"
      }
    },
    {
      "cell_type": "markdown",
      "source": [
        "A blockchain is a distributed ledger that contains a continuously growing list of records, called blocks. Each block contains a cryptographic hash of the previous block, a timestamp, and transaction data. The hash of each block is created using cryptographic algorithms, and it ensures the integrity and immutability of the data stored in the blockchain."
      ],
      "metadata": {
        "id": "C_Wg05mBLgbW"
      }
    },
    {
      "cell_type": "markdown",
      "source": [
        "Bitcoin mining is the process by which new bitcoins are created and added to the circulating supply. It also serves as the mechanism by which transactions are verified and added to the public ledger known as the blockchain.<br>Mining is the process of guessing the Nonce that generates hash with first X number of zeros"
      ],
      "metadata": {
        "id": "EUKFTIrPLhoy"
      }
    },
    {
      "cell_type": "code",
      "execution_count": 1,
      "metadata": {
        "colab": {
          "base_uri": "https://localhost:8080/",
          "height": 35
        },
        "id": "GAq5_H12LUme",
        "outputId": "dc420709-f713-4711-dd86-5b2887021336"
      },
      "outputs": [
        {
          "output_type": "execute_result",
          "data": {
            "text/plain": [
              "'69f0fb8cb1d2195340160eb0e4fcf019b4500be11e00fc55f5d3d108b4914d44'"
            ],
            "application/vnd.google.colaboratory.intrinsic+json": {
              "type": "string"
            }
          },
          "metadata": {},
          "execution_count": 1
        }
      ],
      "source": [
        "from hashlib import sha256\n",
        "import time\n",
        "def SHA256(text):\n",
        "    return sha256(text.encode('ascii')).hexdigest() # sha256 is a cryptographic hash function\n",
        "SHA256('ABD')"
      ]
    },
    {
      "cell_type": "code",
      "source": [
        "def SHA256(text):\n",
        "    return sha256(text.encode('ascii')).hexdigest() # sha256 is a cryptographic hash function"
      ],
      "metadata": {
        "id": "J6c0cg3QLsqh"
      },
      "execution_count": 2,
      "outputs": []
    },
    {
      "cell_type": "code",
      "source": [
        "def mine(block_number, transactions, prev_hash, prefix_zeros):\n",
        "  prefix_str = '0'*prefix_zeros\n",
        "  MAX_NONCE  = 10**20\n",
        "  for nonce in range(MAX_NONCE):\n",
        "    text = str(block_number) + transactions + prev_hash + str(nonce)\n",
        "    new_hash = SHA256(text)\n",
        "    if new_hash.startswith(prefix_str):\n",
        "      print(f\"Successfully mined bitcoins with nonce value:{nonce}\")\n",
        "      return new_hash\n",
        "  raise BaseException(f\" Could not find the correct has after trying {MAX_NONCE} times\")"
      ],
      "metadata": {
        "id": "NCyYEVzbLxm3"
      },
      "execution_count": 5,
      "outputs": []
    },
    {
      "cell_type": "code",
      "source": [
        "if __name__ == '__main__':\n",
        "  transactions = '''\n",
        "  Mrityunjay -> Vaibhav -> 20,\n",
        "  Gangesh -> kuldeep -> 45\n",
        "  '''\n",
        "  # within the transactions the last transaction made is the transaction to person itself this is the way to redeem the reward\n",
        "  difficulty = 6\n",
        "  start = time.time()\n",
        "  print('Start_mining')\n",
        "  new_hash = mine(5,transactions,'69f0fb8cb1d2195340160eb0e4fcf019b4500be11e00fc55f5d3d108b4914d44',difficulty)\n",
        "  end = time.time()\n",
        "  print(f\"mining took {end - start} seconds\")\n"
      ],
      "metadata": {
        "colab": {
          "base_uri": "https://localhost:8080/"
        },
        "id": "JkU5dH81L1ae",
        "outputId": "6d5e8b1c-47e3-4bb7-d3c8-df85e8bcada3"
      },
      "execution_count": 6,
      "outputs": [
        {
          "output_type": "stream",
          "name": "stdout",
          "text": [
            "Start_mining\n",
            "Successfully mined bitcoins with nonce value:801815\n",
            "mining took 1.7594897747039795 seconds\n"
          ]
        }
      ]
    }
  ]
}