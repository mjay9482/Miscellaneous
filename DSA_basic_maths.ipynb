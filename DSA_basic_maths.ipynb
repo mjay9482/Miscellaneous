{
  "nbformat": 4,
  "nbformat_minor": 0,
  "metadata": {
    "colab": {
      "provenance": []
    },
    "kernelspec": {
      "name": "python3",
      "display_name": "Python 3"
    },
    "language_info": {
      "name": "python"
    }
  },
  "cells": [
    {
      "cell_type": "markdown",
      "source": [
        "##Divisors"
      ],
      "metadata": {
        "id": "_mjlSvz6Fuhe"
      }
    },
    {
      "cell_type": "code",
      "execution_count": null,
      "metadata": {
        "id": "HRbZHltZFt3F"
      },
      "outputs": [],
      "source": [
        "n = 36\n",
        "a = []\n",
        "i = 2\n",
        "while i * i <= n:\n",
        "  if n % i == 0:\n",
        "    a.append(i)\n",
        "    c = n//i\n",
        "    if c not in a:\n",
        "      a.append(c)\n",
        "  i += 1\n",
        "print(a)"
      ]
    },
    {
      "cell_type": "markdown",
      "source": [
        "## Prime"
      ],
      "metadata": {
        "id": "4BnYPSH6F0Ik"
      }
    },
    {
      "cell_type": "code",
      "source": [
        "import numpy as np\n",
        "def isprime(n):\n",
        "  flag = True\n",
        "  for i in range(2,int(np.sqrt(n))+1):\n",
        "    if n % i == 0:\n",
        "      flag = False\n",
        "      break\n",
        "  return flag\n",
        "isprime(114)"
      ],
      "metadata": {
        "id": "iSVSNc_tF0wn"
      },
      "execution_count": null,
      "outputs": []
    },
    {
      "cell_type": "markdown",
      "source": [
        "## Prime Factors"
      ],
      "metadata": {
        "id": "iZL9cBIHF40B"
      }
    },
    {
      "cell_type": "code",
      "source": [
        "def isprdivisor(n):\n",
        "  a = []\n",
        "  for i in range(2,int(np.sqrt(n))+1):\n",
        "    if isprime(i):\n",
        "      if n % i == 0:\n",
        "        a.append(i)\n",
        "  return a\n",
        "\n",
        "isprdivisor(780)"
      ],
      "metadata": {
        "id": "JZvCew4DF7XC"
      },
      "execution_count": null,
      "outputs": []
    },
    {
      "cell_type": "code",
      "source": [
        "# TC = O(sqrt(N)*log(N))\n",
        "def isprdivisor(n):\n",
        "  a = []\n",
        "  for i in range(2,int(np.sqrt(n))+1):\n",
        "    if n % i == 0:\n",
        "      a.append(i)\n",
        "    while n % i == 0:\n",
        "      n = n // i\n",
        "  return a\n",
        "\n",
        "isprdivisor(780)"
      ],
      "metadata": {
        "id": "ygeTU2zTF95s"
      },
      "execution_count": null,
      "outputs": []
    },
    {
      "cell_type": "markdown",
      "source": [
        "## HCF and LCM"
      ],
      "metadata": {
        "id": "B6IXH0JUGAu1"
      }
    },
    {
      "cell_type": "code",
      "source": [
        "def gcd(a,b):\n",
        "  while (a > 0 and b > 0):\n",
        "    if a > b:\n",
        "      a %= b\n",
        "    else:\n",
        "      b %= a\n",
        "  return b if a == 0 else a\n",
        "a = 22\n",
        "b = 7\n",
        "hcf = gcd(a,b)\n",
        "lcm = a*b / gcd(a,b)\n",
        "hcf , lcm"
      ],
      "metadata": {
        "id": "prImolCqGBEk",
        "colab": {
          "base_uri": "https://localhost:8080/"
        },
        "outputId": "5ef02835-3965-4cfa-dd10-e7998ceb877d"
      },
      "execution_count": 4,
      "outputs": [
        {
          "output_type": "execute_result",
          "data": {
            "text/plain": [
              "(1, 154.0)"
            ]
          },
          "metadata": {},
          "execution_count": 4
        }
      ]
    },
    {
      "cell_type": "code",
      "source": [
        "def fn3(a,b):\n",
        "  if b == 0:\n",
        "    return a\n",
        "  return fn3(b,a%b)\n",
        "fn3(15,30)"
      ],
      "metadata": {
        "colab": {
          "base_uri": "https://localhost:8080/"
        },
        "id": "b0tUEHGSrcem",
        "outputId": "dac53201-9646-40df-b3d9-d10e475dee1d"
      },
      "execution_count": 10,
      "outputs": [
        {
          "output_type": "execute_result",
          "data": {
            "text/plain": [
              "15"
            ]
          },
          "metadata": {},
          "execution_count": 10
        }
      ]
    },
    {
      "cell_type": "markdown",
      "source": [
        "## Exponentiation"
      ],
      "metadata": {
        "id": "qL1y4MdWGHEH"
      }
    },
    {
      "cell_type": "code",
      "source": [
        "def myPow(x, n):\n",
        "    if n < 0:\n",
        "        return 1/myPow(x, -n)\n",
        "    if n == 0:\n",
        "        return 1\n",
        "    elif n % 2 == 1:\n",
        "        return x * myPow(x, n - 1)\n",
        "    else:\n",
        "        half_power = myPow(x, n // 2)\n",
        "        return half_power * half_power\n",
        "myPow(5,-4.5)"
      ],
      "metadata": {
        "id": "bbYj1udnGKTo",
        "colab": {
          "base_uri": "https://localhost:8080/"
        },
        "outputId": "4ccd6790-38d0-4fe7-8a32-31f1401fc3fd"
      },
      "execution_count": 3,
      "outputs": [
        {
          "output_type": "execute_result",
          "data": {
            "text/plain": [
              "0.0016"
            ]
          },
          "metadata": {},
          "execution_count": 3
        }
      ]
    },
    {
      "cell_type": "markdown",
      "source": [
        "##Sieve of Eratosthenes"
      ],
      "metadata": {
        "id": "rGPgcER6GJkP"
      }
    },
    {
      "cell_type": "code",
      "source": [
        "# TC = O(N) + O(N*log(log(N))) + O(N)\n",
        "def countPrimes(n):\n",
        "    # Create a boolean array to track prime numbers\n",
        "    is_prime = [True] * n\n",
        "    if n < 2:\n",
        "        return 0\n",
        "    is_prime[0] = is_prime[1] = False\n",
        "    # Iterate through the numbers up to square root of n\n",
        "    for i in range(2, int(n**0.5) + 1):\n",
        "        if is_prime[i]:\n",
        "            # Mark all multiples of i as non-prime\n",
        "            for j in range(i*i, n, i):\n",
        "                is_prime[j] = False\n",
        "\n",
        "    # Count the prime numbers\n",
        "    count = sum(is_prime)\n",
        "    list_of_primes = [i for i in range(2,n) if is_prime[i]]\n",
        "    return count, list_of_primes\n",
        "countPrimes(100)"
      ],
      "metadata": {
        "colab": {
          "base_uri": "https://localhost:8080/"
        },
        "id": "UqF3IC-BGaZQ",
        "outputId": "19b3f652-d3ff-41b8-9e1b-fb32f06cc9d3"
      },
      "execution_count": null,
      "outputs": [
        {
          "output_type": "execute_result",
          "data": {
            "text/plain": [
              "(25,\n",
              " [2,\n",
              "  3,\n",
              "  5,\n",
              "  7,\n",
              "  11,\n",
              "  13,\n",
              "  17,\n",
              "  19,\n",
              "  23,\n",
              "  29,\n",
              "  31,\n",
              "  37,\n",
              "  41,\n",
              "  43,\n",
              "  47,\n",
              "  53,\n",
              "  59,\n",
              "  61,\n",
              "  67,\n",
              "  71,\n",
              "  73,\n",
              "  79,\n",
              "  83,\n",
              "  89,\n",
              "  97])"
            ]
          },
          "metadata": {},
          "execution_count": 9
        }
      ]
    },
    {
      "cell_type": "markdown",
      "source": [
        "## Count of number having unique digits <br>given n where n means 10^n"
      ],
      "metadata": {
        "id": "NeB_IacsHyy_"
      }
    },
    {
      "cell_type": "markdown",
      "source": [
        "    # for 0 digit, we have 1\n",
        "    # for 1 digit, we have 9\n",
        "    # for 2 digits, 9*9\n",
        "    # for 3 digits, 9*9*8\n",
        "    # for 4 digits, 9*9*8*7\n",
        "\n",
        "    # n = 2 -> 9 * compute(1) -> 9*9\n",
        "    # n = 3 -> 8 * compute(2) -> 8*9*9"
      ],
      "metadata": {
        "id": "-BRvXjCWMgfu"
      }
    },
    {
      "cell_type": "markdown",
      "source": [
        "## Count unique Numbers"
      ],
      "metadata": {
        "id": "ACunvIKOPHso"
      }
    },
    {
      "cell_type": "code",
      "source": [
        "def unique_no(n):\n",
        "  def count(i):\n",
        "    if i == 0:\n",
        "      return 1\n",
        "    elif i == 1:\n",
        "      return 9\n",
        "    else:\n",
        "      return (11-i)*count(i-1)\n",
        "  return sum([count(i) for i in range(n+1)])\n",
        "unique_no(8)"
      ],
      "metadata": {
        "colab": {
          "base_uri": "https://localhost:8080/"
        },
        "id": "8iK4p41eLs0M",
        "outputId": "b4020812-4a3e-4751-c9ef-24d55062ce31"
      },
      "execution_count": 8,
      "outputs": [
        {
          "output_type": "execute_result",
          "data": {
            "text/plain": [
              "2345851"
            ]
          },
          "metadata": {},
          "execution_count": 8
        }
      ]
    },
    {
      "cell_type": "code",
      "source": [
        "def countNumbersWithUniqueDigits(n):\n",
        "    if n == 0:\n",
        "        return 1\n",
        "    if n > 10:\n",
        "        n = 10\n",
        "    c = 1\n",
        "    for i in range(1, n + 1):\n",
        "        k = 9\n",
        "        for j in range(1, i):\n",
        "            k *= (10 - j)\n",
        "        c += k\n",
        "    return c\n",
        "countNumbersWithUniqueDigits(8)"
      ],
      "metadata": {
        "colab": {
          "base_uri": "https://localhost:8080/"
        },
        "id": "DZCSAQdMyv5C",
        "outputId": "4a63db77-030b-493d-ecf9-c3d418d8e114"
      },
      "execution_count": 25,
      "outputs": [
        {
          "output_type": "execute_result",
          "data": {
            "text/plain": [
              "2345851"
            ]
          },
          "metadata": {},
          "execution_count": 25
        }
      ]
    },
    {
      "cell_type": "markdown",
      "source": [
        "## Find the Missing Number<br>\n",
        "there must be no duplicates"
      ],
      "metadata": {
        "id": "yDYrUmRpPLvC"
      }
    },
    {
      "cell_type": "code",
      "source": [
        "n = 8\n",
        "arr = [2,1,3,5,4,8,6,0]\n",
        "missing_number = n*(n+1)//2 - sum(arr)\n",
        "missing_number"
      ],
      "metadata": {
        "colab": {
          "base_uri": "https://localhost:8080/"
        },
        "id": "DoDI5gJLPN9I",
        "outputId": "7f020526-688d-4eba-878b-26e711eabe0b"
      },
      "execution_count": null,
      "outputs": [
        {
          "output_type": "execute_result",
          "data": {
            "text/plain": [
              "7"
            ]
          },
          "metadata": {},
          "execution_count": 23
        }
      ]
    },
    {
      "cell_type": "markdown",
      "source": [
        "Given an array nums containing n distinct numbers in the range **[0, n]**, return the only number in the range that is missing from the array."
      ],
      "metadata": {
        "id": "Acg0BwSiQ_nb"
      }
    },
    {
      "cell_type": "code",
      "source": [
        "def miss_no(a):\n",
        "  ret = 0\n",
        "  n = len(a)\n",
        "  for i in range(n):\n",
        "    ret ^= i\n",
        "    ret ^=arr[i]\n",
        "  ret ^= n\n",
        "  return ret\n",
        "arr = [2,1,3,4,6,8,5,0]\n",
        "miss_no(arr)"
      ],
      "metadata": {
        "colab": {
          "base_uri": "https://localhost:8080/"
        },
        "id": "Y-tPticdPhjo",
        "outputId": "127245c6-4c18-475d-cfcc-807c9845d128"
      },
      "execution_count": null,
      "outputs": [
        {
          "output_type": "execute_result",
          "data": {
            "text/plain": [
              "7"
            ]
          },
          "metadata": {},
          "execution_count": 40
        }
      ]
    },
    {
      "cell_type": "markdown",
      "source": [
        "## Third Largest"
      ],
      "metadata": {
        "id": "AWT6WH_6UqW4"
      }
    },
    {
      "cell_type": "code",
      "source": [
        "import math as m\n",
        "def tlarge(a):\n",
        "  n = len(a)\n",
        "  l, s, t = a[0], a[1], -m.inf\n",
        "  for i in range(2,n):\n",
        "    if a[i] > l:\n",
        "      t = s\n",
        "      s = l\n",
        "      l = a[i]\n",
        "    elif a[i] > s and a[i] < l:\n",
        "      t = s\n",
        "      s = a[i]\n",
        "    elif a[i] > t and a[i] < s:\n",
        "      t = a[i]\n",
        "  return t\n",
        "\n",
        "arr = [2,1,3,6,5,5]\n",
        "tlarge(arr)"
      ],
      "metadata": {
        "colab": {
          "base_uri": "https://localhost:8080/"
        },
        "id": "Bo9XtNOfRhBE",
        "outputId": "f876b303-ba0d-42ef-8dfa-1d9aa494d7b9"
      },
      "execution_count": null,
      "outputs": [
        {
          "output_type": "execute_result",
          "data": {
            "text/plain": [
              "3"
            ]
          },
          "metadata": {},
          "execution_count": 36
        }
      ]
    },
    {
      "cell_type": "markdown",
      "source": [
        "## Remove Duplicates"
      ],
      "metadata": {
        "id": "17FMt3ZVbcZU"
      }
    },
    {
      "cell_type": "code",
      "source": [
        "def remove_duplicate_no(arr):\n",
        "  n = len(arr)\n",
        "  j = 0\n",
        "  for i in range(1,n):\n",
        "    if arr[i] != arr[j]:\n",
        "        j += 1\n",
        "        arr[j] = arr[i]\n",
        "  return arr[:j+1]\n",
        "arr = [1,2,3,4,5,5,6]\n",
        "remove_duplicate_no(arr)"
      ],
      "metadata": {
        "colab": {
          "base_uri": "https://localhost:8080/"
        },
        "id": "eTqm7MuWhwYt",
        "outputId": "c99c7a22-45a4-4e2d-9207-dea321e5cdfa"
      },
      "execution_count": 70,
      "outputs": [
        {
          "output_type": "execute_result",
          "data": {
            "text/plain": [
              "[1, 2, 3, 4, 5, 6]"
            ]
          },
          "metadata": {},
          "execution_count": 70
        }
      ]
    },
    {
      "cell_type": "markdown",
      "source": [
        "## Kadane's Algo"
      ],
      "metadata": {
        "id": "Z8eI39i3n39f"
      }
    },
    {
      "cell_type": "code",
      "source": [
        "def kadane_algo(arr):\n",
        "  n = len(arr)\n",
        "  maxx = float('-inf')\n",
        "  summ = 0\n",
        "  start = 0\n",
        "  start_ , final_= 0, 0\n",
        "  for i in range(n):\n",
        "    if summ == 0:\n",
        "      start = i\n",
        "    summ += arr[i]\n",
        "    if summ > maxx:\n",
        "      maxx = summ\n",
        "      start_  = start\n",
        "      final_  = i\n",
        "    if summ < 0:\n",
        "      summ = 0\n",
        "\n",
        "  print(arr[start_:final_+1])\n",
        "  return maxx\n",
        "\n",
        "arr = [2,8,-2,-10,2,-3]\n",
        "kadane_algo(arr)"
      ],
      "metadata": {
        "colab": {
          "base_uri": "https://localhost:8080/"
        },
        "id": "5nEJWTAWlawM",
        "outputId": "281a9bf5-d26c-473c-bc89-42778f3dfcad"
      },
      "execution_count": 86,
      "outputs": [
        {
          "output_type": "stream",
          "name": "stdout",
          "text": [
            "[2, 8]\n"
          ]
        },
        {
          "output_type": "execute_result",
          "data": {
            "text/plain": [
              "10"
            ]
          },
          "metadata": {},
          "execution_count": 86
        }
      ]
    },
    {
      "cell_type": "markdown",
      "source": [
        "## Rotate array (in place)"
      ],
      "metadata": {
        "id": "sbNFEgdmn0aw"
      }
    },
    {
      "cell_type": "code",
      "source": [
        "def rotate(arr,k):\n",
        "  n = len(arr)\n",
        "  k %= n\n",
        "  return arr[-k:] + arr[:-k]\n",
        "arr = [2,3,4,5,1]\n",
        "rotate(arr,1)"
      ],
      "metadata": {
        "colab": {
          "base_uri": "https://localhost:8080/"
        },
        "id": "wsdSEs7fnR7X",
        "outputId": "00badad8-955c-4459-d2cb-1980351f085b"
      },
      "execution_count": 82,
      "outputs": [
        {
          "output_type": "execute_result",
          "data": {
            "text/plain": [
              "[1, 2, 3, 4, 5]"
            ]
          },
          "metadata": {},
          "execution_count": 82
        }
      ]
    },
    {
      "cell_type": "markdown",
      "source": [
        "## Move all zeros to end"
      ],
      "metadata": {
        "id": "lbb-CLvUn7pW"
      }
    },
    {
      "cell_type": "code",
      "source": [
        "def move_zeros(arr):\n",
        "  n = len(arr)\n",
        "  l,r = 0,1\n",
        "  while r <= n-1:\n",
        "    if arr[l] == 0 and arr[r] != 0:\n",
        "      arr[l], arr[r] = arr[r], arr[l]\n",
        "      l += 1\n",
        "    elif arr[l] == 0 and arr[r] == 0:\n",
        "      pass\n",
        "    else:\n",
        "      l += 1\n",
        "    r += 1\n",
        "  return arr\n",
        "arr = [2,3,4,0,0,0,1]\n",
        "move_zeros(arr)"
      ],
      "metadata": {
        "colab": {
          "base_uri": "https://localhost:8080/"
        },
        "id": "haQCu3m1ns_T",
        "outputId": "00e092cd-ef37-4b80-d38f-7e60c48dfb64"
      },
      "execution_count": 91,
      "outputs": [
        {
          "output_type": "execute_result",
          "data": {
            "text/plain": [
              "[2, 3, 4, 1, 0, 0, 0]"
            ]
          },
          "metadata": {},
          "execution_count": 91
        }
      ]
    },
    {
      "cell_type": "markdown",
      "source": [
        "## Union of two sorted array"
      ],
      "metadata": {
        "id": "iJHgFmqvquaY"
      }
    },
    {
      "cell_type": "code",
      "source": [
        "def findUnion(arr1, arr2, n, m):\n",
        "    i, j = 0, 0\n",
        "    arr = []\n",
        "\n",
        "    while i < n and j < m:\n",
        "        if arr1[i] < arr2[j]:\n",
        "            if not arr or arr[-1] != arr1[i]:\n",
        "                arr.append(arr1[i])\n",
        "            i += 1\n",
        "        elif arr1[i] > arr2[j]:\n",
        "            if not arr or arr[-1] != arr2[j]:\n",
        "                arr.append(arr2[j])\n",
        "            j += 1\n",
        "        else:\n",
        "            if not arr or arr[-1] != arr1[i]:\n",
        "                arr.append(arr1[i])\n",
        "            i += 1\n",
        "            j += 1\n",
        "\n",
        "    while i < n:\n",
        "        if not arr or arr[-1] != arr1[i]:\n",
        "            arr.append(arr1[i])\n",
        "        i += 1\n",
        "\n",
        "    while j < m:\n",
        "        if not arr or arr[-1] != arr2[j]:\n",
        "            arr.append(arr2[j])\n",
        "        j += 1\n",
        "   # print(list(a.union(b)))\n",
        "\n",
        "    return arr\n",
        "arr1 = [-9, -4, -1, -1, 0, 0, 5, 6, 8]\n",
        "arr2 = [-7 ,-7, -6, -5, 4, 5]\n",
        "findUnion(arr1,arr2,len(arr1),len(arr2))"
      ],
      "metadata": {
        "colab": {
          "base_uri": "https://localhost:8080/"
        },
        "id": "kU3VfuNfvu2w",
        "outputId": "8f1acb3e-2cb7-4e44-812c-72fa03bf66e1"
      },
      "execution_count": 57,
      "outputs": [
        {
          "output_type": "execute_result",
          "data": {
            "text/plain": [
              "[-9, -7, -6, -5, -4, -1, 0, 4, 5, 6, 8]"
            ]
          },
          "metadata": {},
          "execution_count": 57
        }
      ]
    },
    {
      "cell_type": "markdown",
      "source": [
        "## Intersection of two sorted array"
      ],
      "metadata": {
        "id": "WruXmNPMqx1U"
      }
    },
    {
      "cell_type": "code",
      "source": [
        "def intersec_arr(arr1, arr2):\n",
        "  c = []\n",
        "  n , m = len(arr1), len(arr2)\n",
        "  i, j = 0, 0\n",
        "  while i < n and j < m:\n",
        "    if arr1[i] < arr2[j] and arr1[i] not in c:\n",
        "      i += 1\n",
        "    elif arr1[i] > arr2[j] and arr2[j] not in c:\n",
        "      j += 1\n",
        "    else:\n",
        "      if arr1[i] not in c:\n",
        "        c.append(arr1[i])\n",
        "      i += 1\n",
        "      j += 1\n",
        "  # print(list(a.intersection(b)))\n",
        "  return c\n",
        "\n",
        "arr1 = [1,1,2,3,4,5]\n",
        "arr2 = [2,3,4,4,5,6,7]\n",
        "intersec_arr(arr1,arr2)"
      ],
      "metadata": {
        "colab": {
          "base_uri": "https://localhost:8080/"
        },
        "id": "etx3gZd1w9_k",
        "outputId": "651805fc-1d59-4cef-ec11-93d1985ed4a0"
      },
      "execution_count": 115,
      "outputs": [
        {
          "output_type": "execute_result",
          "data": {
            "text/plain": [
              "[2, 3, 4, 5]"
            ]
          },
          "metadata": {},
          "execution_count": 115
        }
      ]
    },
    {
      "cell_type": "markdown",
      "source": [
        "## Max Consecutive Ones"
      ],
      "metadata": {
        "id": "lJBZBYRDyBK5"
      }
    },
    {
      "cell_type": "code",
      "source": [
        "def max_consecutive_ones(arr):\n",
        "  max_count = 0\n",
        "  count = 0\n",
        "  for i in arr:\n",
        "    if i == 1:\n",
        "      count += 1\n",
        "    else:\n",
        "      max_count = max(max_count, count)\n",
        "      count = 0\n",
        "  return max(max_count , count)\n",
        "max_consecutive_ones([1,1,0,1,1,1,0,1,1])"
      ],
      "metadata": {
        "colab": {
          "base_uri": "https://localhost:8080/"
        },
        "id": "WJZYxPJmyhPa",
        "outputId": "5c428887-c6df-482d-eae6-32db207b6e2c"
      },
      "execution_count": 116,
      "outputs": [
        {
          "output_type": "execute_result",
          "data": {
            "text/plain": [
              "3"
            ]
          },
          "metadata": {},
          "execution_count": 116
        }
      ]
    },
    {
      "cell_type": "code",
      "source": [
        "# To check whether we get a sirted array after rotating the array\n",
        "def check(nums):\n",
        "    l1 = len(nums)\n",
        "    nums1 = nums.copy()\n",
        "    nums1.sort()\n",
        "    print(nums1)\n",
        "    for i in range(l1):\n",
        "        nums[:] = nums[-1:] + nums[:-1]\n",
        "        if nums1 == nums:\n",
        "            return True\n",
        "    return False\n",
        "check([3,4,5,1,2])"
      ],
      "metadata": {
        "colab": {
          "base_uri": "https://localhost:8080/"
        },
        "id": "QC9IwhEFiD_B",
        "outputId": "020747a3-20cf-496b-bdc6-6daec8a44246"
      },
      "execution_count": 50,
      "outputs": [
        {
          "output_type": "stream",
          "name": "stdout",
          "text": [
            "[1, 2, 3, 4, 5]\n",
            "0\n",
            "[2, 3, 4, 5, 1]\n",
            "1\n",
            "[1, 2, 3, 4, 5]\n"
          ]
        },
        {
          "output_type": "execute_result",
          "data": {
            "text/plain": [
              "True"
            ]
          },
          "metadata": {},
          "execution_count": 50
        }
      ]
    },
    {
      "cell_type": "code",
      "source": [
        "nums = [3,4,5,1,2]\n",
        "nums[-2:] + nums[:-2]"
      ],
      "metadata": {
        "colab": {
          "base_uri": "https://localhost:8080/"
        },
        "id": "qtewa756ni9f",
        "outputId": "a65e81dc-f01e-4341-95f9-a44e2975c4d7"
      },
      "execution_count": 41,
      "outputs": [
        {
          "output_type": "execute_result",
          "data": {
            "text/plain": [
              "[1, 2, 3, 4, 5]"
            ]
          },
          "metadata": {},
          "execution_count": 41
        }
      ]
    },
    {
      "cell_type": "code",
      "source": [
        "def movezz(nums):\n",
        "  n = len(nums)\n",
        "  l = 0\n",
        "  r = 1\n",
        "  while r <= n-1:\n",
        "      if nums[l] == 1 and  nums[r] != 1:\n",
        "          nums[l] , nums[r] = nums[r], nums[l]\n",
        "          l += 1\n",
        "      elif nums[l] ==1 and nums[r] == 1:\n",
        "          pass\n",
        "      else:\n",
        "        l += 1\n",
        "      r += 1\n",
        "\n",
        "  l, r = 0, 1\n",
        "\n",
        "  while r <= n-1:\n",
        "    if nums[l] == 2 and  nums[r] != 2:\n",
        "        nums[l] , nums[r] = nums[r], nums[l]\n",
        "        l += 1\n",
        "    elif nums[l] == 2 and nums[r] == 2:\n",
        "        pass\n",
        "    else:\n",
        "      l += 1\n",
        "    r += 1\n",
        "  return nums\n",
        "\n",
        "movezz([2,0,0,1,2,0,1,1])"
      ],
      "metadata": {
        "colab": {
          "base_uri": "https://localhost:8080/"
        },
        "id": "HD8KWPKK0Ah6",
        "outputId": "aa3990bb-cca4-4ba3-c621-4011c06484dd"
      },
      "execution_count": 2,
      "outputs": [
        {
          "output_type": "execute_result",
          "data": {
            "text/plain": [
              "[0, 0, 0, 1, 1, 1, 2, 2]"
            ]
          },
          "metadata": {},
          "execution_count": 2
        }
      ]
    },
    {
      "cell_type": "markdown",
      "source": [
        "# Sorting"
      ],
      "metadata": {
        "id": "7WYzVubpKPUC"
      }
    },
    {
      "cell_type": "code",
      "source": [
        "def movezz(nums):\n",
        "  set_nums = set(nums)\n",
        "  k = len(set_nums)\n",
        "  n = len(nums)\n",
        "  for i in range(1,k):\n",
        "    l = 0\n",
        "    r = 1\n",
        "    while r <= n-1:\n",
        "        if nums[l] == i and  nums[r] != i:\n",
        "            nums[l] , nums[r] = nums[r], nums[l]\n",
        "            l += 1\n",
        "        elif nums[l] == i and nums[r] == i:\n",
        "            pass\n",
        "        else:\n",
        "          l += 1\n",
        "        r += 1\n",
        "  return nums\n",
        "\n",
        "movezz([2,0,0,1,2,4,3,0,1,1,3,3,4])"
      ],
      "metadata": {
        "colab": {
          "base_uri": "https://localhost:8080/"
        },
        "id": "Lmn8dWXwIdLt",
        "outputId": "b5e46e88-aa6d-4f97-8459-0e744c51561f"
      },
      "execution_count": 6,
      "outputs": [
        {
          "output_type": "execute_result",
          "data": {
            "text/plain": [
              "[0, 0, 0, 1, 1, 1, 2, 2, 3, 3, 3, 4, 4]"
            ]
          },
          "metadata": {},
          "execution_count": 6
        }
      ]
    },
    {
      "cell_type": "code",
      "source": [
        "def removeDuplicates(nums):\n",
        "    n = len(nums)\n",
        "    j = 1\n",
        "    for i in range(1,n):\n",
        "        if nums[i-1] != nums[i]:\n",
        "            nums[j] = nums[i]\n",
        "            j += 1\n",
        "    return nums[:j]\n",
        "removeDuplicates([0,0,1,1,1,2,2,3,3,4,4])"
      ],
      "metadata": {
        "colab": {
          "base_uri": "https://localhost:8080/"
        },
        "id": "fgxVUcKX9Zx_",
        "outputId": "10d12c85-af1e-4406-c7bd-7ab15778f843"
      },
      "execution_count": 7,
      "outputs": [
        {
          "output_type": "execute_result",
          "data": {
            "text/plain": [
              "[0, 1, 2, 3, 4]"
            ]
          },
          "metadata": {},
          "execution_count": 7
        }
      ]
    },
    {
      "cell_type": "code",
      "source": [
        "arr  = [3, -1, 2, -5, -2, 1]\n",
        "n = len(arr)\n",
        "arr1 = []\n",
        "arr2 = []\n",
        "\n",
        "# Separate positive and negative numbers\n",
        "for i in range(n):\n",
        "    if arr[i] < 0:\n",
        "        arr2.append(arr[i])\n",
        "    else:\n",
        "        arr1.append(arr[i])\n",
        "\n",
        "# Merge positive and negative numbers\n",
        "a = arr1 + arr2\n",
        "\n",
        "# Rearrange the merged array\n",
        "result = []\n",
        "half = (n + 1) // 2\n",
        "\n",
        "for i in range(half):\n",
        "    result.append(a[i])\n",
        "    if i + half < n:\n",
        "        result.append(a[i + half])\n",
        "\n",
        "print(\"Merged array:\", a)\n",
        "print(\"Rearranged array:\", result)\n"
      ],
      "metadata": {
        "colab": {
          "base_uri": "https://localhost:8080/"
        },
        "id": "rQxNIdUXEVYn",
        "outputId": "d1f7845b-c6e8-4ffa-bbd1-9faf25a19cac"
      },
      "execution_count": 74,
      "outputs": [
        {
          "output_type": "stream",
          "name": "stdout",
          "text": [
            "Merged array: [3, 2, 1, -1, -5, -2]\n",
            "Rearranged array: [3, -1, 2, -5, 1, -2]\n"
          ]
        }
      ]
    },
    {
      "cell_type": "code",
      "source": [
        "def twoOddNum(Arr, N):\n",
        "    xor_result = 0\n",
        "\n",
        "    # Step 1: XOR all elements to get xor_result which is the XOR of two odd occurring numbers\n",
        "    for num in Arr:\n",
        "        xor_result ^= num\n",
        "\n",
        "    # Step 2: Find a set bit in xor_result (rightmost set bit)\n",
        "    set_bit = xor_result & ~(xor_result - 1)\n",
        "\n",
        "    # Step 3: Divide elements into two groups and find the odd occurring numbers\n",
        "    num1 = 0\n",
        "    num2 = 0\n",
        "    for num in Arr:\n",
        "        if num & set_bit:\n",
        "            num1 ^= num\n",
        "        else:\n",
        "            num2 ^= num\n",
        "\n",
        "    # Return the result in sorted order\n",
        "    return sorted([num1, num2])\n",
        "\n",
        "# Example usage\n",
        "Arr = [4,2,1,2,4,3]\n",
        "N = len(Arr)\n",
        "twoOddNum(Arr, N)"
      ],
      "metadata": {
        "colab": {
          "base_uri": "https://localhost:8080/"
        },
        "id": "RnJcGKjTaS29",
        "outputId": "3deeb88d-b4ef-4e6a-a9b5-8355f43dcc0f"
      },
      "execution_count": 15,
      "outputs": [
        {
          "output_type": "stream",
          "name": "stdout",
          "text": [
            "-2\n"
          ]
        },
        {
          "output_type": "execute_result",
          "data": {
            "text/plain": [
              "[1, 3]"
            ]
          },
          "metadata": {},
          "execution_count": 15
        }
      ]
    },
    {
      "cell_type": "code",
      "source": [
        "def fn(i,n):\n",
        "  if i > n:\n",
        "    return\n",
        "  print(i+1,\"mjay\")\n",
        "  fn(i+1,n)\n",
        "if __name__ == \"__main__\":\n",
        "  fn(1,5)"
      ],
      "metadata": {
        "colab": {
          "base_uri": "https://localhost:8080/"
        },
        "collapsed": true,
        "id": "7Aedu8r6oxns",
        "outputId": "86dc635e-79f7-4a89-b8f3-cbe3a4faa543"
      },
      "execution_count": 5,
      "outputs": [
        {
          "output_type": "stream",
          "name": "stdout",
          "text": [
            "2 mjay\n",
            "3 mjay\n",
            "4 mjay\n",
            "5 mjay\n",
            "6 mjay\n"
          ]
        }
      ]
    },
    {
      "cell_type": "code",
      "source": [
        "# Without Backtracking\n",
        "def fnn(i,n):\n",
        "  if i < n:\n",
        "    return\n",
        "  print(i)\n",
        "  fnn(i-1,n)\n",
        "if __name__ == \"__main__\":\n",
        "  fnn(10,1)"
      ],
      "metadata": {
        "colab": {
          "base_uri": "https://localhost:8080/"
        },
        "collapsed": true,
        "id": "ZboMNQt6pvdY",
        "outputId": "40f24762-cceb-478d-ae50-495d263b3f14"
      },
      "execution_count": 11,
      "outputs": [
        {
          "output_type": "stream",
          "name": "stdout",
          "text": [
            "10\n",
            "9\n",
            "8\n",
            "7\n",
            "6\n",
            "5\n",
            "4\n",
            "3\n",
            "2\n",
            "1\n"
          ]
        }
      ]
    },
    {
      "cell_type": "code",
      "source": [
        "# With Backtracking\n",
        "def fnnb(i,n):\n",
        "  if i > n:\n",
        "    return\n",
        "  fnnb(i+1,n)\n",
        "  print(i)\n",
        "if __name__ == \"__main__\":\n",
        "  fnnb(1,10)"
      ],
      "metadata": {
        "colab": {
          "base_uri": "https://localhost:8080/"
        },
        "collapsed": true,
        "id": "dq7skEG9sxsq",
        "outputId": "ef6efa5b-a082-4b59-ebe3-60a185e70c5c"
      },
      "execution_count": 14,
      "outputs": [
        {
          "output_type": "stream",
          "name": "stdout",
          "text": [
            "10\n",
            "9\n",
            "8\n",
            "7\n",
            "6\n",
            "5\n",
            "4\n",
            "3\n",
            "2\n",
            "1\n"
          ]
        }
      ]
    },
    {
      "cell_type": "code",
      "source": [
        "def rotate(arr, l, r):\n",
        "  if l >= r:\n",
        "    return\n",
        "  swap(arr, l , r)\n",
        "  rotate(arr, l+1, r-1)\n",
        "def swap(arr,a,b):\n",
        "  arr[a], arr[b] = arr[b] , arr[a]\n",
        "rotate([6,5,4,3,2,1],0,5)"
      ],
      "metadata": {
        "id": "m6hwkGFGEdN3"
      },
      "execution_count": 24,
      "outputs": []
    },
    {
      "cell_type": "code",
      "source": [
        "nums = [6,4,5,2,1,3,3,1,2]\n",
        "i = 0\n",
        "while i < len(nums):\n",
        "  t = nums[i]-1\n",
        "  if nums[i] != nums[t]:\n",
        "    nums[i],nums[t] = nums[t],nums[i]\n",
        "  else:\n",
        "    i += 1\n",
        "print(nums)"
      ],
      "metadata": {
        "colab": {
          "base_uri": "https://localhost:8080/"
        },
        "collapsed": true,
        "id": "fFZ8Tjicxg-v",
        "outputId": "d368b1a9-d158-4171-f6c1-cccdf8dbb36c"
      },
      "execution_count": 62,
      "outputs": [
        {
          "output_type": "stream",
          "name": "stdout",
          "text": [
            "[1, 2, 3, 4, 5, 6, 3, 1, 2]\n"
          ]
        }
      ]
    },
    {
      "cell_type": "code",
      "source": [
        "# Recursion\n",
        "\n",
        "# Sum of Numbers\n",
        "\n",
        "# def fn1(m):\n",
        "#   if m == 0:\n",
        "#     return 0\n",
        "#   return m%10 +fn1(m//10)\n",
        "\n",
        "# fn1(54)\n",
        "\n",
        "# Exponentiation\n",
        "# def fn(x, n):\n",
        "#     if n == 0:\n",
        "#         return 1\n",
        "#     return x * fn(x , n-1)\n",
        "\n",
        "# Exponentiation\n",
        "# def fn2(x, n):\n",
        "#     if n == 0:\n",
        "#         return 1\n",
        "#     elif n < 0 :\n",
        "#       return (1/x)*fn(x,n+1)\n",
        "#     return x * fn(x , n-1)\n",
        "\n",
        "# result = fn(2, -5)\n",
        "# print(result)\n",
        "\n",
        "\n",
        "# Decimal to binary\n",
        "# def fn4(n):\n",
        "#   if n ==1 :\n",
        "#     return 1\n",
        "#   return n%2 +10*fn4(n//2)\n",
        "\n",
        "# fn4(13)\n",
        "\n",
        "# Binary to Decimal\n",
        "def fn5(n):\n",
        "  def helper(n, i):\n",
        "    if n == 0:\n",
        "      return 0\n",
        "    return (n%10)*2**(i) + helper(n//10,i+1)\n",
        "  return helper(n, 0)\n",
        "\n",
        "fn5(1101)\n",
        "\n",
        "# Product of array\n",
        "# def productOfArray(arr):\n",
        "#   if len(arr) == 1:\n",
        "#     return arr[0]\n",
        "#   return arr[0] * productOfArray(arr[1:])\n",
        "# productOfArray([5,1,8,4])\n",
        "\n",
        "# Fibonacci Series\n",
        "# def fib(n):\n",
        "#     f = 0\n",
        "#     s = 1\n",
        "#     for i in range(2, n+1):\n",
        "#         f,s = s, f+s\n",
        "#     return s\n",
        "\n",
        "# fib(10)\n",
        "\n",
        "# Flatten array\n",
        "# def flatten(arr):\n",
        "#     res = []\n",
        "#     for i in arr:\n",
        "#         if type(i) is list:\n",
        "#             res.extend(flatten(i))\n",
        "#         else:\n",
        "#             res.append(i)\n",
        "#     return res\n",
        "\n",
        "# flatten([[1,2],3,4,5,6,[[[[[[[[[[44]]]]]]]]]]])"
      ],
      "metadata": {
        "colab": {
          "base_uri": "https://localhost:8080/"
        },
        "id": "Mw6It-4xx3mF",
        "outputId": "f2e31560-de0f-416c-cdd9-f14655893395"
      },
      "execution_count": 59,
      "outputs": [
        {
          "output_type": "execute_result",
          "data": {
            "text/plain": [
              "13"
            ]
          },
          "metadata": {},
          "execution_count": 59
        }
      ]
    }
  ]
}