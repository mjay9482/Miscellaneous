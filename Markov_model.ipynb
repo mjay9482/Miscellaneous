{
  "nbformat": 4,
  "nbformat_minor": 0,
  "metadata": {
    "colab": {
      "provenance": []
    },
    "kernelspec": {
      "name": "python3",
      "display_name": "Python 3"
    },
    "language_info": {
      "name": "python"
    }
  },
  "cells": [
    {
      "cell_type": "code",
      "execution_count": 1,
      "metadata": {
        "colab": {
          "base_uri": "https://localhost:8080/"
        },
        "id": "z_AqDe9xSXaN",
        "outputId": "91cedc3c-4744-444c-bff2-530cc8e78569"
      },
      "outputs": [
        {
          "output_type": "stream",
          "name": "stdout",
          "text": [
            "['cloudy']\n"
          ]
        }
      ],
      "source": [
        "import numpy as np\n",
        "\n",
        "# Define the state transition function (transition probabilities)\n",
        "transition_table = np.array([\n",
        "    [0.8, 0.2, 0.0],  # Transition probabilities from \"sunny\" to [\"sunny\", \"cloudy\", \"rainy\"]\n",
        "    [0.4, 0.4, 0.2],  # Transition probabilities from \"cloudy\" to [\"sunny\", \"cloudy\", \"rainy\"]\n",
        "    [0.2, 0.6, 0.2]   # Transition probabilities from \"rainy\" to [\"sunny\", \"cloudy\", \"rainy\"]\n",
        "])\n",
        "\n",
        "# Define the initial state\n",
        "initial_state = \"cloudy\"\n",
        "\n",
        "# Function to simulate weather sequences\n",
        "def simulate_weather_sequence(transition_matrix, initial_state, sequence_length):\n",
        "    states = []\n",
        "    current_state = initial_state\n",
        "\n",
        "    for _ in range(sequence_length):\n",
        "        states.append(current_state)\n",
        "        # Use the transition matrix to determine the next state\n",
        "        current_state = np.random.choice([\"sunny\", \"cloudy\", \"rainy\"], p=transition_matrix[current_state_to_index[current_state]])\n",
        "\n",
        "    return states\n",
        "\n",
        "# Dictionary to map state names to indices (0 for sunny, 1 for cloudy, 2 for rainy)\n",
        "current_state_to_index = {\"sunny\": 0, \"cloudy\": 1, \"rainy\": 2}\n",
        "\n",
        "# Simulate a weather sequence of length 10\n",
        "weather_sequence = simulate_weather_sequence(transition_table, initial_state, sequence_length=1)\n",
        "\n",
        "# Print the generated weather sequence\n",
        "print(weather_sequence)"
      ]
    },
    {
      "cell_type": "markdown",
      "source": [
        "This **stationary distribution** represents the long-term behavior of the chain, where the probabilities of being in different states stabilize over time, regardless of the initial state.<br>\n",
        "Mathematically it is,\n",
        "$$vA = v $$ such that\n",
        "$ λ $ = 1"
      ],
      "metadata": {
        "id": "Kj1hPwl8TQrK"
      }
    },
    {
      "cell_type": "code",
      "source": [
        "import numpy as np\n",
        "\n",
        "# Define the state transition function (transition probabilities)\n",
        "transition_table = np.array([\n",
        "    [0.8, 0.2, 0.0],  # Transition probabilities from \"sunny\" to [\"sunny\", \"cloudy\", \"rainy\"]\n",
        "    [0.4, 0.4, 0.2],  # Transition probabilities from \"cloudy\" to [\"sunny\", \"cloudy\", \"rainy\"]\n",
        "    [0.2, 0.6, 0.2]   # Transition probabilities from \"rainy\" to [\"sunny\", \"cloudy\", \"rainy\"]\n",
        "])\n",
        "\n",
        "# Calculate the stationary distribution\n",
        "eigenvalues, eigenvectors = np.linalg.eig(transition_table.T)\n",
        "print(eigenvalues)\n",
        "print(eigenvectors)\n",
        "stationary_distribution = eigenvectors[:, np.where(np.isclose(eigenvalues, 1))[0][0]].real\n",
        "print(stationary_distribution)\n",
        "stationary_distribution /= stationary_distribution.sum()\n",
        "\n",
        "# Display the stationary distribution\n",
        "print(\"Stationary Distribution:\")\n",
        "print(\"Sunny: {:.4f}\".format(stationary_distribution[0]))\n",
        "print(\"Cloudy: {:.4f}\".format(stationary_distribution[1]))\n",
        "print(\"Rainy: {:.4f}\".format(stationary_distribution[2]))\n"
      ],
      "metadata": {
        "colab": {
          "base_uri": "https://localhost:8080/"
        },
        "id": "667C1WD4SpJk",
        "outputId": "eb17b91e-199f-4de0-cecf-a41cc3064291"
      },
      "execution_count": 2,
      "outputs": [
        {
          "output_type": "stream",
          "name": "stdout",
          "text": [
            "[ 1.          0.48284271 -0.08284271]\n",
            "[[-0.90913729  0.81251992  0.23258782]\n",
            " [-0.40406102 -0.47596315 -0.79410449]\n",
            " [-0.10101525 -0.33655677  0.56151667]]\n",
            "[-0.90913729 -0.40406102 -0.10101525]\n",
            "Stationary Distribution:\n",
            "Sunny: 0.6429\n",
            "Cloudy: 0.2857\n",
            "Rainy: 0.0714\n"
          ]
        }
      ]
    },
    {
      "cell_type": "markdown",
      "source": [
        "In a Markov chain, a stationary distribution exists if and only if the chain is both *irreducible* and *aperiodic*. <br>\n",
        "**Irreducibility**: A Markov chain is said to be irreducible if it is possible to reach any state from any other state, directly or indirectly, with positive probability. <br>\n",
        "**Aperiodicity**: A Markov chain is said to be aperiodic if the greatest common divisor (GCD) of the lengths of all possible cycles in the chain is 1. In simpler terms, it means that the chain does not exhibit any regular or repeating patterns in its transitions"
      ],
      "metadata": {
        "id": "i3T0bEG3TA6m"
      }
    },
    {
      "cell_type": "code",
      "source": [
        "# Stationary distribution (from previous answer)\n",
        "stationary_distribution = np.array([0.6429, 0.2857, 0.0714])\n",
        "\n",
        "# Transition matrix (from the question)\n",
        "transition_table = np.array([\n",
        "    [0.8, 0.2, 0.0],  # Transition probabilities from \"sunny\" to [\"sunny\", \"cloudy\", \"rainy\"]\n",
        "    [0.4, 0.4, 0.2],  # Transition probabilities from \"cloudy\" to [\"sunny\", \"cloudy\", \"rainy\"]\n",
        "    [0.2, 0.6, 0.2]   # Transition probabilities from \"rainy\" to [\"sunny\", \"cloudy\", \"rainy\"]\n",
        "])\n",
        "\n",
        "# Calculate P(Yesterday | Today)\n",
        "conditional_probabilities = transition_table * stationary_distribution.reshape(-1, 1)\n",
        "print(conditional_probabilities)\n",
        "conditional_probabilities /= conditional_probabilities.sum(axis=0)\n",
        "\n",
        "# Display the conditional probability table\n",
        "print(\"Conditional Probability Table (Yesterday | Today):\")\n",
        "print(\"               Yesterday\")\n",
        "print('----------------------------------- ')\n",
        "print(\"Today     |  Sunny   Cloudy  Rainy\")\n",
        "print(f\"Sunny     | {conditional_probabilities[0][0]:.4f}  {conditional_probabilities[1][0]:.4f}  {conditional_probabilities[2][0]:.4f}\")\n",
        "print(f\"Cloudy    | {conditional_probabilities[0][1]:.4f}  {conditional_probabilities[1][1]:.4f}  {conditional_probabilities[2][1]:.4f}\")\n",
        "print(f\"Rainy     | {conditional_probabilities[0][2]:.4f}  {conditional_probabilities[1][2]:.4f}  {conditional_probabilities[2][2]:.4f}\")\n"
      ],
      "metadata": {
        "colab": {
          "base_uri": "https://localhost:8080/"
        },
        "id": "SELssqmSSs_F",
        "outputId": "09db2035-7523-467d-8378-b0ef84b45b2f"
      },
      "execution_count": 3,
      "outputs": [
        {
          "output_type": "stream",
          "name": "stdout",
          "text": [
            "[[0.51432 0.12858 0.     ]\n",
            " [0.11428 0.11428 0.05714]\n",
            " [0.01428 0.04284 0.01428]]\n",
            "Conditional Probability Table (Yesterday | Today):\n",
            "               Yesterday\n",
            "----------------------------------- \n",
            "Today     |  Sunny   Cloudy  Rainy\n",
            "Sunny     | 0.8000  0.1778  0.0222\n",
            "Cloudy    | 0.4501  0.4000  0.1499\n",
            "Rainy     | 0.0000  0.8001  0.1999\n"
          ]
        }
      ]
    },
    {
      "cell_type": "code",
      "source": [
        "# Uniform prior probabilities\n",
        "prior_distribution = np.array([1/3, 1/3, 1/3])\n",
        "\n",
        "# Transition matrix (from the question)\n",
        "transition_table = np.array([\n",
        "    [0.8, 0.2, 0.0],  # Transition probabilities from \"sunny\" to [\"sunny\", \"cloudy\", \"rainy\"]\n",
        "    [0.4, 0.4, 0.2],  # Transition probabilities from \"cloudy\" to [\"sunny\", \"cloudy\", \"rainy\"]\n",
        "    [0.2, 0.6, 0.2]   # Transition probabilities from \"rainy\" to [\"sunny\", \"cloudy\", \"rainy\"]\n",
        "])\n",
        "\n",
        "# Calculate P(Yesterday | Today)\n",
        "conditional_probabilities = transition_table * prior_distribution.reshape(-1, 1)\n",
        "conditional_probabilities /= conditional_probabilities.sum(axis=0)\n",
        "\n",
        "# Display the conditional probability table\n",
        "print(\"Conditional Probability Table (Yesterday | Today):\")\n",
        "print(\"               Yesterday\")\n",
        "print('----------------------------------- ')\n",
        "print(\"Today     |  Sunny   Cloudy  Rainy\")\n",
        "\n",
        "print(f\"Sunny     | {conditional_probabilities[0][0]:.4f}  {conditional_probabilities[1][0]:.4f}  {conditional_probabilities[2][0]:.4f}\")\n",
        "print(f\"Cloudy    | {conditional_probabilities[0][1]:.4f}  {conditional_probabilities[1][1]:.4f}  {conditional_probabilities[2][1]:.4f}\")\n",
        "print(f\"Rainy     | {conditional_probabilities[0][2]:.4f}  {conditional_probabilities[1][2]:.4f}  {conditional_probabilities[2][2]:.4f}\")"
      ],
      "metadata": {
        "colab": {
          "base_uri": "https://localhost:8080/"
        },
        "id": "9T73nDhySydU",
        "outputId": "9de836bd-0267-4906-db30-2d19efc67313"
      },
      "execution_count": 4,
      "outputs": [
        {
          "output_type": "stream",
          "name": "stdout",
          "text": [
            "Conditional Probability Table (Yesterday | Today):\n",
            "               Yesterday\n",
            "----------------------------------- \n",
            "Today     |  Sunny   Cloudy  Rainy\n",
            "Sunny     | 0.5714  0.2857  0.1429\n",
            "Cloudy    | 0.1667  0.3333  0.5000\n",
            "Rainy     | 0.0000  0.5000  0.5000\n"
          ]
        }
      ]
    },
    {
      "cell_type": "code",
      "source": [
        "transition_table = np.array([\n",
        "    [0.5, 0.5],\n",
        "    [0.3, 0.7],\n",
        "])\n",
        "# Calculate the stationary distribution\n",
        "eigenvalues, eigenvectors = np.linalg.eig(transition_table.T)\n",
        "stationary_distribution = eigenvectors[:, np.where(np.isclose(eigenvalues, 1))[0][0]].real\n",
        "\n",
        "# # Find index of eigenvalue 1\n",
        "# stationary_index = np.argmin(np.abs(eigenvalues - 1))\n",
        "\n",
        "# # Extract corresponding eigenvector\n",
        "# stationary_distribution = np.real(eigenvectors[:, stationary_index])\n",
        "\n",
        "stationary_distribution /= stationary_distribution.sum()\n",
        "print(stationary_distribution)"
      ],
      "metadata": {
        "colab": {
          "base_uri": "https://localhost:8080/"
        },
        "id": "RkAsYWMGW7Ef",
        "outputId": "ec73922e-42dd-4da8-ee9e-44c2e6f8dcf3"
      },
      "execution_count": 5,
      "outputs": [
        {
          "output_type": "stream",
          "name": "stdout",
          "text": [
            "[0.375 0.625]\n"
          ]
        }
      ]
    },
    {
      "cell_type": "code",
      "source": [
        "A = transition_table\n",
        "for _ in range(15):           # theoretically lim (n -> inf) A^n\n",
        "    A = np.dot(transition_table,A)\n",
        "print(A)"
      ],
      "metadata": {
        "colab": {
          "base_uri": "https://localhost:8080/"
        },
        "id": "CW4q_nn2Vg77",
        "outputId": "37da36eb-b1b3-4093-9402-c48830ea404e"
      },
      "execution_count": 25,
      "outputs": [
        {
          "output_type": "stream",
          "name": "stdout",
          "text": [
            "[[0.375 0.625]\n",
            " [0.375 0.625]]\n"
          ]
        }
      ]
    },
    {
      "cell_type": "code",
      "source": [
        "state = {\n",
        "    0:'Burger',\n",
        "    1:'Pizza',\n",
        "    2:'Hotdog'\n",
        "}\n",
        "state"
      ],
      "metadata": {
        "colab": {
          "base_uri": "https://localhost:8080/"
        },
        "id": "OrTiuAI1rkWJ",
        "outputId": "70661385-5dc5-4784-ce1e-0d3aba2f1ebf"
      },
      "execution_count": 8,
      "outputs": [
        {
          "output_type": "execute_result",
          "data": {
            "text/plain": [
              "{0: 'Burger', 1: 'Pizza', 2: 'Hotdog'}"
            ]
          },
          "metadata": {},
          "execution_count": 8
        }
      ]
    },
    {
      "cell_type": "markdown",
      "source": [
        "$$A_{ij} = P(X_n = j | X_{n-1} = i)$$"
      ],
      "metadata": {
        "id": "wq8neq2kuybD"
      }
    },
    {
      "cell_type": "code",
      "source": [
        "# Transition matrix (from the question)\n",
        "transition_matrix = np.array([\n",
        "    [0.2, 0.6, 0.2],  # Transition probabilities from \"Burger\" to [\"Burger\", \"Pizza\", \"Hotdog\"]\n",
        "    [0.3, 0.0, 0.7],  # Transition probabilities from \"Pizza\" to [\"Burger\", \"Pizza\", \"Hotdog\"]\n",
        "    [0.5, 0.0, 0.5]   # Transition probabilities from \"Hotdog\" to [\"Burger\", \"Pizza\", \"Hotdog\"]\n",
        "])"
      ],
      "metadata": {
        "id": "XCXhxVk8ulUF"
      },
      "execution_count": 13,
      "outputs": []
    },
    {
      "cell_type": "code",
      "source": [
        "n = 15\n",
        "start_state = 0\n",
        "print(state[start_state],\"--->\",end = \" \")\n",
        "prev_state = start_state\n",
        "\n",
        "while n-1:\n",
        "  curr_state = np.random.choice([0,1,2],p = transition_matrix[prev_state])\n",
        "  print(state[curr_state],\"--->\",end = \" \")\n",
        "  prev_state = curr_state\n",
        "  n-=1\n",
        "print(\"stop\")"
      ],
      "metadata": {
        "colab": {
          "base_uri": "https://localhost:8080/"
        },
        "id": "vpMkovNEvWz6",
        "outputId": "84be3718-b60c-4a4c-d000-af10959ce449"
      },
      "execution_count": 16,
      "outputs": [
        {
          "output_type": "stream",
          "name": "stdout",
          "text": [
            "Burger ---> Hotdog ---> Hotdog ---> Burger ---> Pizza ---> Hotdog ---> Burger ---> Hotdog ---> Burger ---> Pizza ---> Hotdog ---> Hotdog ---> Hotdog ---> Hotdog ---> Burger ---> stop\n"
          ]
        }
      ]
    },
    {
      "cell_type": "markdown",
      "source": [
        "## Approach 1: Monte Carlo"
      ],
      "metadata": {
        "id": "p4pokWwywXKU"
      }
    },
    {
      "cell_type": "code",
      "source": [
        "steps = 10**6\n",
        "start_state = 0\n",
        "pi = np.array([0,0,0])\n",
        "pi[start_state] = 1\n",
        "prev_state = start_state\n",
        "\n",
        "i = 0\n",
        "while i < steps:\n",
        "  curr_state = np.random.choice([0,1,2],p = transition_matrix[prev_state])\n",
        "  pi[curr_state] += 1\n",
        "  prev_state = curr_state\n",
        "  i += 1\n",
        "\n",
        "print(\"pi = \",pi/steps)"
      ],
      "metadata": {
        "colab": {
          "base_uri": "https://localhost:8080/"
        },
        "id": "2kn0T4ClwcDo",
        "outputId": "b332bdde-992a-4c17-ce45-052add036801"
      },
      "execution_count": 19,
      "outputs": [
        {
          "output_type": "stream",
          "name": "stdout",
          "text": [
            "pi =  [0.352102 0.211536 0.436363]\n"
          ]
        }
      ]
    },
    {
      "cell_type": "markdown",
      "source": [
        "## Approach 2:  <br>\n",
        "Repeated Matrix Multiplication\n",
        "$$lim_{n \\to ∞} A^n$$"
      ],
      "metadata": {
        "id": "aF7Jdjmj1qfB"
      }
    },
    {
      "cell_type": "code",
      "source": [
        "steps = 10**6\n",
        "A = transition_matrix\n",
        "i = 0\n",
        "while i < (steps):           # theoretically lim (n -> inf) A^n\n",
        "    A = np.dot(transition_matrix,A)\n",
        "    i += 1\n",
        "print(A)\n",
        "print(A[0])"
      ],
      "metadata": {
        "colab": {
          "base_uri": "https://localhost:8080/"
        },
        "id": "jRoJL1vG1LuB",
        "outputId": "a7719f54-62fc-4e87-ec93-2428d49700cc"
      },
      "execution_count": 29,
      "outputs": [
        {
          "output_type": "stream",
          "name": "stdout",
          "text": [
            "[[0.35211268 0.21126761 0.43661972]\n",
            " [0.35211268 0.21126761 0.43661972]\n",
            " [0.35211268 0.21126761 0.43661972]]\n",
            "[0.35211268 0.21126761 0.43661972]\n"
          ]
        }
      ]
    },
    {
      "cell_type": "markdown",
      "source": [
        "## Approach 3: Finding the left Eigen Vectors"
      ],
      "metadata": {
        "id": "vV1MZGm02uAZ"
      }
    },
    {
      "cell_type": "code",
      "source": [
        "import scipy.linalg\n",
        "values , left = scipy.linalg.eig(transition_matrix, right = False, left = True)\n",
        "\n",
        "print(\"left eigen vectors\\n\", left)\n",
        "print(\"eigen values\", values)"
      ],
      "metadata": {
        "colab": {
          "base_uri": "https://localhost:8080/"
        },
        "id": "2bQ6F8ix2ri8",
        "outputId": "6e53aea4-50bd-46b0-e287-68eac067203e"
      },
      "execution_count": 34,
      "outputs": [
        {
          "output_type": "stream",
          "name": "stdout",
          "text": [
            "left eigen vectors\n",
            " [[-0.58746336+0.j          0.16984156+0.35355339j  0.16984156-0.35355339j]\n",
            " [-0.35247801+0.j         -0.67936622+0.j         -0.67936622-0.j        ]\n",
            " [-0.72845456+0.j          0.50952467-0.35355339j  0.50952467+0.35355339j]]\n",
            "eigen values [ 1.  +0.j        -0.15+0.3122499j -0.15-0.3122499j]\n"
          ]
        }
      ]
    },
    {
      "cell_type": "code",
      "source": [
        "pi = left[:,0]\n",
        "pi_normalised = [(x/np.sum(pi)).real for x in pi]\n",
        "pi_normalised"
      ],
      "metadata": {
        "colab": {
          "base_uri": "https://localhost:8080/"
        },
        "id": "h6YPLiUo6S9b",
        "outputId": "97a4b621-07a6-40dc-d9f1-47db34703c10"
      },
      "execution_count": 35,
      "outputs": [
        {
          "output_type": "execute_result",
          "data": {
            "text/plain": [
              "[0.3521126760563379, 0.21126760563380304, 0.4366197183098591]"
            ]
          },
          "metadata": {},
          "execution_count": 35
        }
      ]
    },
    {
      "cell_type": "markdown",
      "source": [
        "##P(Pizza --> Hotdog --> Hotdog --> Burger) <br>\n",
        "=> P(X_0 = Pizza , X_1 = Hotdog, X_2 = Hotdog, X_3 = Burger) <br>\n",
        "=> P(X_0 = Pizza).P(X_1 = Hotdog | X_0 = Pizza).P(X_2 = Hotdog | X_1 = Hotdog).P(X_3 = Burger | X_2 = Hotdog)"
      ],
      "metadata": {
        "id": "FnJucIYI7Z0C"
      }
    },
    {
      "cell_type": "code",
      "source": [
        "def find_prob(seq, A, pi):\n",
        "  start_state = seq[0]\n",
        "  prob = pi[start_state]\n",
        "  prev_state = start_state\n",
        "  for i in range(1, len(seq)):\n",
        "    curr_state = seq[i]\n",
        "    prob *= transition_matrix[prev_state][curr_state]\n",
        "    prev_state = curr_state\n",
        "  return prob\n",
        "find_prob([1,2,2,0],transition_matrix,pi_normalised)"
      ],
      "metadata": {
        "colab": {
          "base_uri": "https://localhost:8080/"
        },
        "id": "y-j-uBIO6uF-",
        "outputId": "7ba2a6b8-6a38-42ff-e527-d3265bc65be7"
      },
      "execution_count": 40,
      "outputs": [
        {
          "output_type": "execute_result",
          "data": {
            "text/plain": [
              "0.03697183098591553"
            ]
          },
          "metadata": {},
          "execution_count": 40
        }
      ]
    }
  ]
}